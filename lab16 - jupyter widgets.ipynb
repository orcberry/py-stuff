{
 "cells": [
  {
   "cell_type": "code",
   "execution_count": 1,
   "metadata": {},
   "outputs": [
    {
     "data": {
      "application/vnd.jupyter.widget-view+json": {
       "model_id": "8f696944bb2247168983177ad2fac121",
       "version_major": 2,
       "version_minor": 0
      },
      "text/plain": [
       "Text(value='', description='Vorname:')"
      ]
     },
     "metadata": {},
     "output_type": "display_data"
    },
    {
     "data": {
      "application/vnd.jupyter.widget-view+json": {
       "model_id": "8b55e49822974e999189100a8d5c9d51",
       "version_major": 2,
       "version_minor": 0
      },
      "text/plain": [
       "Text(value='', description='Nachname:')"
      ]
     },
     "metadata": {},
     "output_type": "display_data"
    },
    {
     "data": {
      "application/vnd.jupyter.widget-view+json": {
       "model_id": "1b5bdc2e903b4db9bcfa7da95c8b25cd",
       "version_major": 2,
       "version_minor": 0
      },
      "text/plain": [
       "Dropdown(description='Fach', options=('Mathe', 'Informatik', 'Philosophie'), value='Mathe')"
      ]
     },
     "metadata": {},
     "output_type": "display_data"
    },
    {
     "data": {
      "application/vnd.jupyter.widget-view+json": {
       "model_id": "4845815c555c43909ad9a9daf2397bca",
       "version_major": 2,
       "version_minor": 0
      },
      "text/plain": [
       "Button(description='Speichern', style=ButtonStyle())"
      ]
     },
     "metadata": {},
     "output_type": "display_data"
    }
   ],
   "source": [
    "import ipywidgets as widgets\n",
    "from IPython.display import display\n",
    "import csv\n",
    "\n",
    "def save_to_csv(name, surname, subject):\n",
    "    with open('lab16-data.csv', 'a', newline='', encoding='utf-8') as csvfile:\n",
    "        writer = csv.writer(csvfile, dialect='excel', delimiter=\";\", quoting=csv.QUOTE_MINIMAL)\n",
    "        writer.writerow((name, surname, subject))\n",
    "\n",
    "# build the form\n",
    "subject_select = widgets.Dropdown(\n",
    "    options=['Mathe', 'Informatik', 'Philosophie'],\n",
    "    description='Fach',\n",
    "    disabled=False\n",
    ")\n",
    "name_input = widgets.Text(description=\"Vorname:\", value=\"\")\n",
    "surname_input = widgets.Text(description=\"Nachname:\", value=\"\")\n",
    "save_button = widgets.Button(description=\"Speichern\")\n",
    "\n",
    "display(name_input, surname_input, subject_select, save_button)\n",
    "\n",
    "save_button.on_click(lambda event: save_to_csv(name_input.value, surname_input.value, subject_select.value))\n",
    "                                   \n",
    "# save_to_csv('hello', 'world', '!')"
   ]
  }
 ],
 "metadata": {
  "kernelspec": {
   "display_name": "Python 3",
   "language": "python",
   "name": "python3"
  },
  "language_info": {
   "codemirror_mode": {
    "name": "ipython",
    "version": 3
   },
   "file_extension": ".py",
   "mimetype": "text/x-python",
   "name": "python",
   "nbconvert_exporter": "python",
   "pygments_lexer": "ipython3",
   "version": "3.7.0"
  }
 },
 "nbformat": 4,
 "nbformat_minor": 2
}

{
 "cells": [
  {
   "cell_type": "code",
   "execution_count": 17,
   "metadata": {},
   "outputs": [
    {
     "data": {
      "application/vnd.jupyter.widget-view+json": {
       "model_id": "44f2cc7ca32e49c897fb745c4eee8975",
       "version_major": 2,
       "version_minor": 0
      },
      "text/plain": [
       "Text(value='', description='Vorname:')"
      ]
     },
     "metadata": {},
     "output_type": "display_data"
    },
    {
     "data": {
      "application/vnd.jupyter.widget-view+json": {
       "model_id": "b9da4227ac4b477bad7b237b94c15b0f",
       "version_major": 2,
       "version_minor": 0
      },
      "text/plain": [
       "Text(value='', description='Nachname:')"
      ]
     },
     "metadata": {},
     "output_type": "display_data"
    },
    {
     "data": {
      "application/vnd.jupyter.widget-view+json": {
       "model_id": "f3d25bc3cec043ce85879563f788c771",
       "version_major": 2,
       "version_minor": 0
      },
      "text/plain": [
       "Dropdown(description='Fach', options=('Mathe', 'Informatik', 'Philosophie'), value='Mathe')"
      ]
     },
     "metadata": {},
     "output_type": "display_data"
    },
    {
     "data": {
      "application/vnd.jupyter.widget-view+json": {
       "model_id": "552542f1c16c45cda8354c20c92c8624",
       "version_major": 2,
       "version_minor": 0
      },
      "text/plain": [
       "Button(description='Speichern', style=ButtonStyle())"
      ]
     },
     "metadata": {},
     "output_type": "display_data"
    },
    {
     "name": "stdout",
     "output_type": "stream",
     "text": [
      "hello world !\n"
     ]
    }
   ],
   "source": [
    "import ipywidgets as widgets\n",
    "from IPython.display import display\n",
    "import csv\n",
    "\n",
    "def save_to_csv(name, surname, subject):\n",
    "    print(name, surname, subject)\n",
    "    with open('lab16-data.csv', 'a', newline='', encoding='utf-8') as csvfile:\n",
    "        writer = csv.writer(csvfile, dialect='excel', delimiter=\";\", quoting=csv.QUOTE_MINIMAL)\n",
    "        writer.writerow((name, surname, subject))\n",
    "\n",
    "# build the form\n",
    "subject_select = widgets.Dropdown(\n",
    "    options=['Mathe', 'Informatik', 'Philosophie'],\n",
    "    description='Fach',\n",
    "    disabled=False\n",
    ")\n",
    "name_input = widgets.Text(description=\"Vorname:\", value=\"\")\n",
    "surname_input = widgets.Text(description=\"Nachname:\", value=\"\")\n",
    "save_button = widgets.Button(description=\"Speichern\")\n",
    "\n",
    "display(name_input, surname_input, subject_select, save_button)\n",
    "\n",
    "save_button.on_click(lambda x: save_to_csv(name_input.value, surname_input.value, subject_select.value))\n",
    "                                   \n",
    "# save_to_csv('hello', 'world', '!')"
   ]
  }
 ],
 "metadata": {
  "kernelspec": {
   "display_name": "Python 3",
   "language": "python",
   "name": "python3"
  },
  "language_info": {
   "codemirror_mode": {
    "name": "ipython",
    "version": 3
   },
   "file_extension": ".py",
   "mimetype": "text/x-python",
   "name": "python",
   "nbconvert_exporter": "python",
   "pygments_lexer": "ipython3",
   "version": "3.7.0"
  }
 },
 "nbformat": 4,
 "nbformat_minor": 2
}

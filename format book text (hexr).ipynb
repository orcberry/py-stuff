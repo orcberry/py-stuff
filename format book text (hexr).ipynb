{
 "cells": [
  {
   "cell_type": "code",
   "execution_count": 3,
   "metadata": {},
   "outputs": [
    {
     "name": "stdout",
     "output_type": "stream",
     "text": [
      "Written 593972 chars\n"
     ]
    }
   ],
   "source": [
    "import os\n",
    "\n",
    "text = ''\n",
    "lines = []\n",
    "data_path = os.path.join('..', 'pystuff-data')\n",
    "\n",
    "with open(os.path.join(data_path, 'book.txt'), 'r', encoding=\"utf-8\") as file:\n",
    "    for index, line in enumerate(file):\n",
    "#         if index > 501:\n",
    "#             break\n",
    "        lines.append(line.strip())\n",
    "\n",
    "for line in lines:        \n",
    "    txt = line.strip()\n",
    "    dialog_start = txt.startswith('»')\n",
    "    dialog_end = txt.endswith('«')\n",
    "    sentence_end = txt.endswith(('.', '?', '!'))\n",
    "    short_line = len(txt) <= 32\n",
    "\n",
    "    if short_line and not sentence_end and not dialog_start and not dialog_end:\n",
    "        # titles etc\n",
    "        text += '\\n\\n' + txt + '\\n\\n'\n",
    "    elif sentence_end:\n",
    "        # paragraph ends\n",
    "        text += txt + '\\n'\n",
    "    else:\n",
    "        if dialog_start:\n",
    "            text += '\\n'\n",
    "        \n",
    "        if dialog_end:\n",
    "            text += txt + '\\n'\n",
    "        else:\n",
    "            # not ended sentence\n",
    "            text += txt + ' '\n",
    "\n",
    "with open(os.path.join(data_path, 'book-out.txt'), 'w', newline='', encoding=\"utf-8\") as file:\n",
    "    file.write(text)\n",
    "\n",
    "print('Written {0} chars'.format(len(text)))"
   ]
  }
 ],
 "metadata": {
  "kernelspec": {
   "display_name": "Python 3",
   "language": "python",
   "name": "python3"
  },
  "language_info": {
   "codemirror_mode": {
    "name": "ipython",
    "version": 3
   },
   "file_extension": ".py",
   "mimetype": "text/x-python",
   "name": "python",
   "nbconvert_exporter": "python",
   "pygments_lexer": "ipython3",
   "version": "3.7.0"
  }
 },
 "nbformat": 4,
 "nbformat_minor": 2
}
